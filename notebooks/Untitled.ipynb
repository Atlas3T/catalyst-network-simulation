{
 "cells": [
  {
   "cell_type": "code",
   "execution_count": 26,
   "metadata": {},
   "outputs": [
    {
     "name": "stdout",
     "output_type": "stream",
     "text": [
      "['', '/opt/conda/envs/scibase/lib/python36.zip', '/opt/conda/envs/scibase/lib/python3.6', '/opt/conda/envs/scibase/lib/python3.6/lib-dynload', '/opt/conda/envs/scibase/lib/python3.6/site-packages', '/opt/conda/envs/scibase/lib/python3.6/site-packages/IPython/extensions', '/home/simuser/.ipython', '~/lib', '~/lib/simlib', '~/lib/simlib', '~/lib', '~/lib/simlib/', '~/lib', '~/lib/simlib', '~/lib', '~/lib/simlib', '~/lib', '~/lib/simlib', '~/lib', '~/lob/simlib', '~/lib', '/home/simuser/notebooks/~/lib', '/home/simuser/notebooks/~/lib/simlib', '/home/simuser/notebooks/~/lib', '/home/simuser/notebooks/~/lib/simlib', '/home/simuser/notebooks/~/lib', '/home/simuser/notebooks/~/lib/simlib', '/home/simuser/notebooks/~/lib', '/home/simuser/notebooks/~/lib/simlib', '/home/simuser/notebooks/~/lib', '/home/simuser/notebooks/~/lib/simliber', '~/lib', '~/lib/simliber', '~/lib', '~/lib/simlib', '~/lib', '~/lib/simlib/', '~/simuser/lib', '~/simuser/lib']\n"
     ]
    },
    {
     "ename": "ModuleNotFoundError",
     "evalue": "No module named 'sim'",
     "output_type": "error",
     "traceback": [
      "\u001b[0;31m---------------------------------------------------------------------------\u001b[0m",
      "\u001b[0;31mModuleNotFoundError\u001b[0m                       Traceback (most recent call last)",
      "\u001b[0;32m<ipython-input-26-65d375da10f2>\u001b[0m in \u001b[0;36m<module>\u001b[0;34m\u001b[0m\n\u001b[1;32m      3\u001b[0m \u001b[0msys\u001b[0m\u001b[0;34m.\u001b[0m\u001b[0mpath\u001b[0m\u001b[0;34m.\u001b[0m\u001b[0mappend\u001b[0m\u001b[0;34m(\u001b[0m\u001b[0;34m'~/simuser/lib'\u001b[0m\u001b[0;34m)\u001b[0m\u001b[0;34m\u001b[0m\u001b[0m\n\u001b[1;32m      4\u001b[0m \u001b[0mprint\u001b[0m\u001b[0;34m(\u001b[0m\u001b[0msys\u001b[0m\u001b[0;34m.\u001b[0m\u001b[0mpath\u001b[0m\u001b[0;34m)\u001b[0m\u001b[0;34m\u001b[0m\u001b[0m\n\u001b[0;32m----> 5\u001b[0;31m \u001b[0;32mfrom\u001b[0m \u001b[0msim\u001b[0m\u001b[0;34m.\u001b[0m\u001b[0msimlib\u001b[0m\u001b[0;34m.\u001b[0m\u001b[0mpeer_relationships\u001b[0m \u001b[0;32mimport\u001b[0m \u001b[0mpeer_dist\u001b[0m\u001b[0;34m\u001b[0m\u001b[0m\n\u001b[0m\u001b[1;32m      6\u001b[0m \u001b[0;34m\u001b[0m\u001b[0m\n",
      "\u001b[0;31mModuleNotFoundError\u001b[0m: No module named 'sim'"
     ]
    }
   ],
   "source": [
    "import sys\n",
    "import os\n",
    "sys.path.append('~/simuser/lib')\n",
    "print(sys.path)\n",
    "from sim.simlib.peer_relationships import peer_dist\n",
    "\n"
   ]
  },
  {
   "cell_type": "code",
   "execution_count": null,
   "metadata": {},
   "outputs": [],
   "source": [
    "\n"
   ]
  },
  {
   "cell_type": "code",
   "execution_count": null,
   "metadata": {},
   "outputs": [],
   "source": []
  }
 ],
 "metadata": {
  "kernelspec": {
   "display_name": "Python [conda env:scibase]",
   "language": "python",
   "name": "conda-env-scibase-py"
  },
  "language_info": {
   "codemirror_mode": {
    "name": "ipython",
    "version": 3
   },
   "file_extension": ".py",
   "mimetype": "text/x-python",
   "name": "python",
   "nbconvert_exporter": "python",
   "pygments_lexer": "ipython3",
   "version": "3.6.6"
  }
 },
 "nbformat": 4,
 "nbformat_minor": 2
}
