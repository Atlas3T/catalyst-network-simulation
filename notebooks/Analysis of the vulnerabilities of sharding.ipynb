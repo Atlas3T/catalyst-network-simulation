{
 "cells": [
  {
   "cell_type": "code",
   "execution_count": 1,
   "metadata": {},
   "outputs": [],
   "source": [
    "from scipy.stats import hypergeom\n",
    "from scipy.stats import binom\n",
    "from decimal import *\n",
    "import numpy as np\n",
    "import os\n",
    "from cycler import cycler\n",
    "%matplotlib inline  \n",
    "#import matplotlib as mpl\n",
    "#mpl.use('Agg')\n",
    "import matplotlib.pyplot as plt\n",
    "import matplotlib.cm as cm\n",
    "from matplotlib.ticker import FormatStrFormatter\n",
    "np.set_printoptions(threshold=np.nan)"
   ]
  },
  {
   "cell_type": "code",
   "execution_count": 2,
   "metadata": {},
   "outputs": [],
   "source": [
    "M = 10000\n",
    "\n",
    "\n",
    "f=0.12\n",
    "n = M*f\n",
    "N = 1000\n",
    "x = N/2\n",
    "p = binom.sf(x,N,f)\n",
    "\n",
    "p1 = 1-hypergeom.cdf(x, M, n, N)\n",
    "p2 = hypergeom.sf(x, M, n, N)\n",
    "\n"
   ]
  },
  {
   "cell_type": "code",
   "execution_count": 4,
   "metadata": {},
   "outputs": [],
   "source": [
    "def get_probs(N,fm,t,tn):\n",
    "    x = N/2\n",
    "    lfm = len(fm)\n",
    "    pm = binom.sf(x,N,fm)\n",
    "    prb=np.zeros((lfm,tn))\n",
    "    xxt = np.linspace(0,t*365*24*60,tn)\n",
    "    for i,pi in enumerate(pm): \n",
    "        prb[i,:] = 1-np.power(1-pi,xxt)\n",
    "    return prb"
   ]
  },
  {
   "cell_type": "code",
   "execution_count": 5,
   "metadata": {},
   "outputs": [],
   "source": [
    "def get_probs_tminutes(N,fm,t):\n",
    "    x = N/2\n",
    "    lfm = len(fm)\n",
    "    pm = binom.sf(x,N,fm)\n",
    "    prb=np.zeros((lfm,len(t)), dtype = np.float64)\n",
    "    for i,pi in enumerate(pm): \n",
    "        prb[i,:] = 1-np.power(1-pi,t)\n",
    "    return prb"
   ]
  },
  {
   "cell_type": "code",
   "execution_count": 6,
   "metadata": {},
   "outputs": [],
   "source": [
    "def get_probs_single(N,fm):\n",
    "    \n",
    "    M=10000\n",
    "    n=np.multiply(M,fm)\n",
    "    p = binom.sf(N/2,N,fm)\n",
    "    #p1=[]\n",
    "    #p2=[]\n",
    "    #for ni in n:\n",
    "        #p1.append(1-hypergeom.cdf(N/2, M, ni, N))\n",
    "        #p2.append(hypergeom.sf(N/2, M, ni, N))\n",
    "    \n",
    "    return p\n",
    "    "
   ]
  },
  {
   "cell_type": "code",
   "execution_count": 7,
   "metadata": {},
   "outputs": [],
   "source": [
    "def get_probs_single_N(Nm,f):\n",
    "    \n",
    "    M=10000\n",
    "    n=np.multiply(M,f)\n",
    "    p=[]\n",
    "    for ni in Nm:\n",
    "        p.append(binom.sf(ni/2,ni,f))\n",
    "    #p1=[]\n",
    "    #p2=[]\n",
    "    #for ni in n:\n",
    "        #p1.append(1-hypergeom.cdf(N/2, M, ni, N))\n",
    "        #p2.append(hypergeom.sf(N/2, M, ni, N))\n",
    "    return p"
   ]
  },
  {
   "cell_type": "code",
   "execution_count": 8,
   "metadata": {},
   "outputs": [],
   "source": [
    "def plot_probs_array_single(Nm,fm):\n",
    "    fig, axes = plt.subplots(nrows=2, ncols=2)\n",
    "    \n",
    "    j=0\n",
    "    cols = cm.rainbow(np.linspace(0, 0.87, len(fm)))\n",
    "    \n",
    "    for ax,Ni in zip(axes.flat, Nm):\n",
    "        pz=get_probs_single(Ni,fm)\n",
    "        print(pz)\n",
    "        x=range(len(pz))\n",
    "        bars = ax.bar(x, height=pz)\n",
    "\n",
    "        for i,fmi in enumerate(fm):\n",
    "            bars[i].set_color(cols[i]) \n",
    "        #plt.xticks(fm, str(fm))\n",
    "        #plt.yticks(np.log(pz), str(pz))\n",
    "        ax.set_yscale('log')\n",
    "        ax.set_title('n='+ str(Ni))\n",
    "        ax.grid(True)\n",
    "        box = ax.get_position()\n",
    "        ax.set_position([box.x0, box.y0, box.width * 0.8, box.height* 0.8])\n",
    "        ax.tick_params(axis='both', which='major', labelsize=8)\n",
    "        #start, end = ax.get_xlim()\n",
    "        #ax.xaxis.set_ticks(np.arange(start, end, 0.25))\n",
    "        if j%2==0:\n",
    "            ax.set_ylabel('Probability')\n",
    "        if j>=2:\n",
    "            ax.set_xlabel('Fraction of bad nodes')\n",
    "        j=j+1\n",
    "        ax.xaxis.set_major_formatter(FormatStrFormatter('%g'))\n",
    "        \n",
    "\n",
    "    handles, labels = ax.get_legend_handles_labels()\n",
    "    lgd = fig.legend(handles, labels,loc='right', fontsize='small',bbox_to_anchor=(0.97, 0.5), title='Fraction of\\n\\'bad\\' nodes',)\n",
    "    fig.suptitle('Probability over time of an attacker having achieved \\n a majority in a validation pool of size n.')\n",
    "    fig.savefig(os.path.expanduser('~/local-data/images/AttackProbsSingle.pdf'), bbox_extra_artists=(lgd,))"
   ]
  },
  {
   "cell_type": "code",
   "execution_count": 9,
   "metadata": {},
   "outputs": [],
   "source": [
    "def plot_probs_single(Nm,fm):\n",
    "    \n",
    "    cols = cm.rainbow(np.linspace(0, 0.87, len(fm)))\n",
    "    fig=plt.figure()\n",
    "    ax = fig.add_subplot(111)\n",
    "    xa=np.arange(len(Nm))\n",
    "    barWidth=0.25\n",
    "    for j,fi in enumerate(fm):\n",
    "        pz=get_probs_single_N(Nm,fi)\n",
    "        \n",
    "        bars = plt.bar(xa, height=pz,width=barWidth, label=fi)\n",
    "        xa=[x+barWidth for x in xa]\n",
    "        \n",
    "        for b in bars:\n",
    "            b.set_color(cols[j])\n",
    "       \n",
    "    plt.yscale('log')\n",
    "    plt.ylim(bottom=10**(-54))   ##hacky\n",
    "    plt.grid(True)\n",
    "    \n",
    "    plt.xticks([r + barWidth for r in range(len(Nm))], Nm)\n",
    "\n",
    "    plt.ylabel('Probability')\n",
    "\n",
    "    plt.xlabel('Validation pool size')\n",
    "\n",
    "    handles, labels = ax.get_legend_handles_labels()\n",
    "    lgd = fig.legend(handles, labels,loc='right', fontsize='small',bbox_to_anchor=(1.05, 0.5), title='Fraction of\\n\\'bad\\' nodes',)\n",
    "    fig.suptitle('Probability of an attacker majority in a validation pool')\n",
    "    fig.savefig(os.path.expanduser('~/local-data/images/AttackProbsSingle.pdf'), bbox_extra_artists=(lgd,))"
   ]
  },
  {
   "cell_type": "code",
   "execution_count": 10,
   "metadata": {},
   "outputs": [],
   "source": [
    "def plot_probs_array(Nm,fm,t,tn,filename = 'AttackProbs'):\n",
    "    fig, axes = plt.subplots(nrows=2, ncols=2)\n",
    "    yl = np.linspace(0,t,tn)\n",
    "    \n",
    "    j=0\n",
    "    cols1 = cm.rainbow(np.linspace(0, 0.87, len(fm)))\n",
    "    #plt.rc('axes', prop_cycle=(cycler('color', cols1) ))\n",
    "    for ax,Ni in zip(axes.flat, Nm):\n",
    "        ax.set_prop_cycle(cycler('color', cols1) )\n",
    "        pz=get_probs(Ni,fm,t,tn)\n",
    "        for i,fmi in enumerate(fm):\n",
    "            ax.plot(yl,pz[i],label=str(fmi))\n",
    "        ax.set_title('n='+ str(Ni))\n",
    "        ax.grid(True)\n",
    "        box = ax.get_position()\n",
    "        ax.set_position([box.x0, box.y0, box.width * 0.8, box.height* 0.8])\n",
    "        ax.tick_params(axis='both', which='major', labelsize=8)\n",
    "        #start, end = ax.get_xlim()\n",
    "        #ax.xaxis.set_ticks(np.arange(start, end, 0.25))\n",
    "        \n",
    "        if j%2==0:\n",
    "            ax.set_ylabel('Probability')\n",
    "        if j>=2:\n",
    "            ax.set_xlabel('Time (years)')\n",
    "        j=j+1\n",
    "        ax.xaxis.set_major_formatter(FormatStrFormatter('%g'))\n",
    "        \n",
    "        \n",
    "\n",
    "    handles, labels = ax.get_legend_handles_labels()\n",
    "    lgd = fig.legend(handles, labels,loc='right', fontsize='small',bbox_to_anchor=(0.97, 0.5), title='Fraction of\\n\\'bad\\' nodes',)\n",
    "    fig.suptitle('Probability over time of an attacker having achieved \\n a majority in a validation pool of size n.')\n",
    "    fig.savefig(os.path.expanduser('~/local-data/images/'+filename+'.pdf'), bbox_extra_artists=(lgd,))"
   ]
  },
  {
   "cell_type": "markdown",
   "metadata": {},
   "source": [
    "# Introduction\n",
    "\n",
    "Many blockchains ensure security through requiring that every single node in the network validates all transactions. To increase the capabilities of a network it may be preferable for each node to validate only a subset of the transactions. However, this could leave the network vulnerable, making it easier for an attacker to obtain a majority of nodes during validation.\n",
    "\n",
    "For a network in which all transactions are validated by every node, an attacker needs to control the majority of the network hashing power in order to interfere with the process of recording new blocks. For this analysis we will assume that all nodes in a network have equal capacity for disseminating their 'truth' to the rest of the network. In reality, factors such as latency, number of peer connections and computational speed may affect this. For a network with no sharding $N/2+1$ nodes must be controlled by a person in order for them to attack the network. For a network in which transactions are seen by only a subset of nodes, the number of nodes an attacker needs to achieve a majority in a validation set is lowered significantly. An attacker could launch a successful attack by overwhelming a single subset with his own nodes. With a network of total size $N$ and subset size $n$, a successful attack would be possible with $n/2+1$ rather than the $N/2+1$ that would otherwise be required. This could significantly lower the cost of an attack on the network. \n",
    "\n",
    "# Random sampling\n",
    "\n",
    "The primary way in which this risk can be ameliorated is through the use of random sampling to assign nodes to subsets. If an attacker is unable to influence which subset their nodes belong to then their potential to attack the network is greatly reduced. This has the effect of increasing the number of nodes required for an attack, as the attacker now needs nodes spread throughout the entire network in sufficient numbers to achieve a majority in a subset. \n",
    "\n",
    "Though it is no longer feasible to launch a successful attack with just $𝑛/2+1$ nodes, there is still a possibility that an attacker can attack with less than $𝑁/2+1$ nodes. Even true random sampling will not guarantee that the attacker's nodes are spread evenly throughout the network in each random draw. However the probability of a random draw giving the attacker a majority reduces as the subset size $n$ increases. Below we look at how this probability is affected by both the size of $n$ and the fraction of the total nodes that the attacker controls.\n"
   ]
  },
  {
   "cell_type": "code",
   "execution_count": 11,
   "metadata": {},
   "outputs": [
    {
     "ename": "NameError",
     "evalue": "name 'cm' is not defined",
     "output_type": "error",
     "traceback": [
      "\u001b[0;31m---------------------------------------------------------------------------\u001b[0m",
      "\u001b[0;31mNameError\u001b[0m                                 Traceback (most recent call last)",
      "\u001b[0;32m<ipython-input-11-6bbc10de2482>\u001b[0m in \u001b[0;36m<module>\u001b[0;34m\u001b[0m\n\u001b[0;32m----> 1\u001b[0;31m \u001b[0mplot_probs_single\u001b[0m\u001b[0;34m(\u001b[0m\u001b[0mNm\u001b[0m \u001b[0;34m=\u001b[0m \u001b[0;34m[\u001b[0m\u001b[0;36m100\u001b[0m\u001b[0;34m,\u001b[0m\u001b[0;36m250\u001b[0m\u001b[0;34m,\u001b[0m\u001b[0;36m500\u001b[0m\u001b[0;34m,\u001b[0m\u001b[0;36m1000\u001b[0m\u001b[0;34m]\u001b[0m\u001b[0;34m,\u001b[0m\u001b[0mfm\u001b[0m \u001b[0;34m=\u001b[0m\u001b[0;34m[\u001b[0m\u001b[0;36m0.2\u001b[0m\u001b[0;34m,\u001b[0m\u001b[0;36m0.3\u001b[0m\u001b[0;34m,\u001b[0m\u001b[0;36m0.4\u001b[0m\u001b[0;34m]\u001b[0m\u001b[0;34m)\u001b[0m\u001b[0;34m\u001b[0m\u001b[0m\n\u001b[0m",
      "\u001b[0;32m<ipython-input-9-edd6303153d1>\u001b[0m in \u001b[0;36mplot_probs_single\u001b[0;34m(Nm, fm)\u001b[0m\n\u001b[1;32m      1\u001b[0m \u001b[0;32mdef\u001b[0m \u001b[0mplot_probs_single\u001b[0m\u001b[0;34m(\u001b[0m\u001b[0mNm\u001b[0m\u001b[0;34m,\u001b[0m\u001b[0mfm\u001b[0m\u001b[0;34m)\u001b[0m\u001b[0;34m:\u001b[0m\u001b[0;34m\u001b[0m\u001b[0m\n\u001b[1;32m      2\u001b[0m \u001b[0;34m\u001b[0m\u001b[0m\n\u001b[0;32m----> 3\u001b[0;31m     \u001b[0mcols\u001b[0m \u001b[0;34m=\u001b[0m \u001b[0mcm\u001b[0m\u001b[0;34m.\u001b[0m\u001b[0mrainbow\u001b[0m\u001b[0;34m(\u001b[0m\u001b[0mnp\u001b[0m\u001b[0;34m.\u001b[0m\u001b[0mlinspace\u001b[0m\u001b[0;34m(\u001b[0m\u001b[0;36m0\u001b[0m\u001b[0;34m,\u001b[0m \u001b[0;36m0.87\u001b[0m\u001b[0;34m,\u001b[0m \u001b[0mlen\u001b[0m\u001b[0;34m(\u001b[0m\u001b[0mfm\u001b[0m\u001b[0;34m)\u001b[0m\u001b[0;34m)\u001b[0m\u001b[0;34m)\u001b[0m\u001b[0;34m\u001b[0m\u001b[0m\n\u001b[0m\u001b[1;32m      4\u001b[0m     \u001b[0mfig\u001b[0m\u001b[0;34m=\u001b[0m\u001b[0mplt\u001b[0m\u001b[0;34m.\u001b[0m\u001b[0mfigure\u001b[0m\u001b[0;34m(\u001b[0m\u001b[0;34m)\u001b[0m\u001b[0;34m\u001b[0m\u001b[0m\n\u001b[1;32m      5\u001b[0m     \u001b[0max\u001b[0m \u001b[0;34m=\u001b[0m \u001b[0mfig\u001b[0m\u001b[0;34m.\u001b[0m\u001b[0madd_subplot\u001b[0m\u001b[0;34m(\u001b[0m\u001b[0;36m111\u001b[0m\u001b[0;34m)\u001b[0m\u001b[0;34m\u001b[0m\u001b[0m\n",
      "\u001b[0;31mNameError\u001b[0m: name 'cm' is not defined"
     ]
    }
   ],
   "source": [
    "plot_probs_single(Nm = [100,250,500,1000],fm =[0.2,0.3,0.4])"
   ]
  },
  {
   "cell_type": "markdown",
   "metadata": {},
   "source": [
    "The largest of these probabilities represents an attacker gaining control of a subset containing 100 nodes, in the situation that he has 40 percent of the total network nodes. He has roughly a 17 in 100 chance of success. For the subset of size 1000, an attacker with 40 percent of the total nodes in the network would have roughly 7 in 10 billion chance of success. "
   ]
  },
  {
   "cell_type": "markdown",
   "metadata": {},
   "source": [
    "# Time \n",
    "\n",
    "Though the probabilities shown above are very small it is important to be aware that when looking at the outcome over many random draws, that the probability of a successful attack occurring is higher. To illustrate the concept we can look at the example of a dice throw, where throwing a six corresponds to a successful attack. The probability of getting 6 in a fair dice throw is $1/6$, around a 17 percent chance. However in 10 successive dice rolls there is an 84 percent chance that a six will be thrown at least once. We must therefore look at the probability of having at least one successful attack over a period of time. Below we assume that a new validation set is chosen every minute.\n"
   ]
  },
  {
   "cell_type": "code",
   "execution_count": 12,
   "metadata": {},
   "outputs": [
    {
     "ename": "NameError",
     "evalue": "name 'plt' is not defined",
     "output_type": "error",
     "traceback": [
      "\u001b[0;31m---------------------------------------------------------------------------\u001b[0m",
      "\u001b[0;31mNameError\u001b[0m                                 Traceback (most recent call last)",
      "\u001b[0;32m<ipython-input-12-51324916eb80>\u001b[0m in \u001b[0;36m<module>\u001b[0;34m\u001b[0m\n\u001b[0;32m----> 1\u001b[0;31m \u001b[0mplot_probs_array\u001b[0m\u001b[0;34m(\u001b[0m\u001b[0mNm\u001b[0m \u001b[0;34m=\u001b[0m \u001b[0;34m[\u001b[0m\u001b[0;36m100\u001b[0m\u001b[0;34m,\u001b[0m\u001b[0;36m250\u001b[0m\u001b[0;34m,\u001b[0m\u001b[0;36m500\u001b[0m\u001b[0;34m,\u001b[0m\u001b[0;36m1000\u001b[0m\u001b[0;34m]\u001b[0m\u001b[0;34m,\u001b[0m\u001b[0mfm\u001b[0m \u001b[0;34m=\u001b[0m \u001b[0;34m[\u001b[0m\u001b[0;36m0.2\u001b[0m\u001b[0;34m,\u001b[0m\u001b[0;36m0.22\u001b[0m\u001b[0;34m,\u001b[0m\u001b[0;36m0.24\u001b[0m\u001b[0;34m,\u001b[0m\u001b[0;36m0.26\u001b[0m\u001b[0;34m,\u001b[0m\u001b[0;36m0.28\u001b[0m\u001b[0;34m,\u001b[0m\u001b[0;36m0.3\u001b[0m\u001b[0;34m,\u001b[0m\u001b[0;36m0.32\u001b[0m\u001b[0;34m,\u001b[0m\u001b[0;36m0.34\u001b[0m\u001b[0;34m,\u001b[0m\u001b[0;36m0.36\u001b[0m\u001b[0;34m,\u001b[0m\u001b[0;36m0.38\u001b[0m\u001b[0;34m,\u001b[0m\u001b[0;36m0.4\u001b[0m\u001b[0;34m]\u001b[0m\u001b[0;34m,\u001b[0m\u001b[0mt\u001b[0m \u001b[0;34m=\u001b[0m \u001b[0;36m10\u001b[0m\u001b[0;34m,\u001b[0m \u001b[0mtn\u001b[0m \u001b[0;34m=\u001b[0m \u001b[0;36m512\u001b[0m\u001b[0;34m,\u001b[0m\u001b[0mfilename\u001b[0m\u001b[0;34m=\u001b[0m\u001b[0;34m\"AttackProbs10year\"\u001b[0m\u001b[0;34m)\u001b[0m\u001b[0;34m\u001b[0m\u001b[0m\n\u001b[0m",
      "\u001b[0;32m<ipython-input-10-9fac01a769a8>\u001b[0m in \u001b[0;36mplot_probs_array\u001b[0;34m(Nm, fm, t, tn, filename)\u001b[0m\n\u001b[1;32m      1\u001b[0m \u001b[0;32mdef\u001b[0m \u001b[0mplot_probs_array\u001b[0m\u001b[0;34m(\u001b[0m\u001b[0mNm\u001b[0m\u001b[0;34m,\u001b[0m\u001b[0mfm\u001b[0m\u001b[0;34m,\u001b[0m\u001b[0mt\u001b[0m\u001b[0;34m,\u001b[0m\u001b[0mtn\u001b[0m\u001b[0;34m,\u001b[0m\u001b[0mfilename\u001b[0m \u001b[0;34m=\u001b[0m \u001b[0;34m'AttackProbs'\u001b[0m\u001b[0;34m)\u001b[0m\u001b[0;34m:\u001b[0m\u001b[0;34m\u001b[0m\u001b[0m\n\u001b[0;32m----> 2\u001b[0;31m     \u001b[0mfig\u001b[0m\u001b[0;34m,\u001b[0m \u001b[0maxes\u001b[0m \u001b[0;34m=\u001b[0m \u001b[0mplt\u001b[0m\u001b[0;34m.\u001b[0m\u001b[0msubplots\u001b[0m\u001b[0;34m(\u001b[0m\u001b[0mnrows\u001b[0m\u001b[0;34m=\u001b[0m\u001b[0;36m2\u001b[0m\u001b[0;34m,\u001b[0m \u001b[0mncols\u001b[0m\u001b[0;34m=\u001b[0m\u001b[0;36m2\u001b[0m\u001b[0;34m)\u001b[0m\u001b[0;34m\u001b[0m\u001b[0m\n\u001b[0m\u001b[1;32m      3\u001b[0m     \u001b[0myl\u001b[0m \u001b[0;34m=\u001b[0m \u001b[0mnp\u001b[0m\u001b[0;34m.\u001b[0m\u001b[0mlinspace\u001b[0m\u001b[0;34m(\u001b[0m\u001b[0;36m0\u001b[0m\u001b[0;34m,\u001b[0m\u001b[0mt\u001b[0m\u001b[0;34m,\u001b[0m\u001b[0mtn\u001b[0m\u001b[0;34m)\u001b[0m\u001b[0;34m\u001b[0m\u001b[0m\n\u001b[1;32m      4\u001b[0m \u001b[0;34m\u001b[0m\u001b[0m\n\u001b[1;32m      5\u001b[0m     \u001b[0mj\u001b[0m\u001b[0;34m=\u001b[0m\u001b[0;36m0\u001b[0m\u001b[0;34m\u001b[0m\u001b[0m\n",
      "\u001b[0;31mNameError\u001b[0m: name 'plt' is not defined"
     ]
    }
   ],
   "source": [
    "plot_probs_array(Nm = [100,250,500,1000],fm = [0.2,0.22,0.24,0.26,0.28,0.3,0.32,0.34,0.36,0.38,0.4],t = 10, tn = 512,filename=\"AttackProbs10year\")"
   ]
  },
  {
   "cell_type": "code",
   "execution_count": 13,
   "metadata": {
    "scrolled": false
   },
   "outputs": [
    {
     "ename": "NameError",
     "evalue": "name 'plt' is not defined",
     "output_type": "error",
     "traceback": [
      "\u001b[0;31m---------------------------------------------------------------------------\u001b[0m",
      "\u001b[0;31mNameError\u001b[0m                                 Traceback (most recent call last)",
      "\u001b[0;32m<ipython-input-13-1645337e77b8>\u001b[0m in \u001b[0;36m<module>\u001b[0;34m\u001b[0m\n\u001b[0;32m----> 1\u001b[0;31m \u001b[0mplot_probs_array\u001b[0m\u001b[0;34m(\u001b[0m\u001b[0mNm\u001b[0m \u001b[0;34m=\u001b[0m \u001b[0;34m[\u001b[0m\u001b[0;36m100\u001b[0m\u001b[0;34m,\u001b[0m\u001b[0;36m250\u001b[0m\u001b[0;34m,\u001b[0m\u001b[0;36m500\u001b[0m\u001b[0;34m,\u001b[0m\u001b[0;36m1000\u001b[0m\u001b[0;34m]\u001b[0m\u001b[0;34m,\u001b[0m\u001b[0mfm\u001b[0m \u001b[0;34m=\u001b[0m \u001b[0;34m[\u001b[0m\u001b[0;36m0.2\u001b[0m\u001b[0;34m,\u001b[0m\u001b[0;36m0.3\u001b[0m\u001b[0;34m,\u001b[0m\u001b[0;36m0.4\u001b[0m\u001b[0;34m]\u001b[0m\u001b[0;34m,\u001b[0m \u001b[0mt\u001b[0m \u001b[0;34m=\u001b[0m \u001b[0;36m1\u001b[0m\u001b[0;34m,\u001b[0m \u001b[0mtn\u001b[0m \u001b[0;34m=\u001b[0m \u001b[0;36m512\u001b[0m \u001b[0;34m,\u001b[0m\u001b[0mfilename\u001b[0m\u001b[0;34m=\u001b[0m\u001b[0;34m\"AttackProbs1year\"\u001b[0m\u001b[0;34m)\u001b[0m\u001b[0;34m\u001b[0m\u001b[0m\n\u001b[0m",
      "\u001b[0;32m<ipython-input-10-9fac01a769a8>\u001b[0m in \u001b[0;36mplot_probs_array\u001b[0;34m(Nm, fm, t, tn, filename)\u001b[0m\n\u001b[1;32m      1\u001b[0m \u001b[0;32mdef\u001b[0m \u001b[0mplot_probs_array\u001b[0m\u001b[0;34m(\u001b[0m\u001b[0mNm\u001b[0m\u001b[0;34m,\u001b[0m\u001b[0mfm\u001b[0m\u001b[0;34m,\u001b[0m\u001b[0mt\u001b[0m\u001b[0;34m,\u001b[0m\u001b[0mtn\u001b[0m\u001b[0;34m,\u001b[0m\u001b[0mfilename\u001b[0m \u001b[0;34m=\u001b[0m \u001b[0;34m'AttackProbs'\u001b[0m\u001b[0;34m)\u001b[0m\u001b[0;34m:\u001b[0m\u001b[0;34m\u001b[0m\u001b[0m\n\u001b[0;32m----> 2\u001b[0;31m     \u001b[0mfig\u001b[0m\u001b[0;34m,\u001b[0m \u001b[0maxes\u001b[0m \u001b[0;34m=\u001b[0m \u001b[0mplt\u001b[0m\u001b[0;34m.\u001b[0m\u001b[0msubplots\u001b[0m\u001b[0;34m(\u001b[0m\u001b[0mnrows\u001b[0m\u001b[0;34m=\u001b[0m\u001b[0;36m2\u001b[0m\u001b[0;34m,\u001b[0m \u001b[0mncols\u001b[0m\u001b[0;34m=\u001b[0m\u001b[0;36m2\u001b[0m\u001b[0;34m)\u001b[0m\u001b[0;34m\u001b[0m\u001b[0m\n\u001b[0m\u001b[1;32m      3\u001b[0m     \u001b[0myl\u001b[0m \u001b[0;34m=\u001b[0m \u001b[0mnp\u001b[0m\u001b[0;34m.\u001b[0m\u001b[0mlinspace\u001b[0m\u001b[0;34m(\u001b[0m\u001b[0;36m0\u001b[0m\u001b[0;34m,\u001b[0m\u001b[0mt\u001b[0m\u001b[0;34m,\u001b[0m\u001b[0mtn\u001b[0m\u001b[0;34m)\u001b[0m\u001b[0;34m\u001b[0m\u001b[0m\n\u001b[1;32m      4\u001b[0m \u001b[0;34m\u001b[0m\u001b[0m\n\u001b[1;32m      5\u001b[0m     \u001b[0mj\u001b[0m\u001b[0;34m=\u001b[0m\u001b[0;36m0\u001b[0m\u001b[0;34m\u001b[0m\u001b[0m\n",
      "\u001b[0;31mNameError\u001b[0m: name 'plt' is not defined"
     ]
    }
   ],
   "source": [
    "plot_probs_array(Nm = [100,250,500,1000],fm = [0.2,0.3,0.4], t = 1, tn = 512 ,filename=\"AttackProbs1year\")"
   ]
  },
  {
   "cell_type": "code",
   "execution_count": 14,
   "metadata": {},
   "outputs": [
    {
     "ename": "NameError",
     "evalue": "name 'binom' is not defined",
     "output_type": "error",
     "traceback": [
      "\u001b[0;31m---------------------------------------------------------------------------\u001b[0m",
      "\u001b[0;31mNameError\u001b[0m                                 Traceback (most recent call last)",
      "\u001b[0;32m<ipython-input-14-63fce42926b4>\u001b[0m in \u001b[0;36m<module>\u001b[0;34m\u001b[0m\n\u001b[1;32m      5\u001b[0m \u001b[0mdividing_factor\u001b[0m \u001b[0;34m=\u001b[0m \u001b[0;36m1\u001b[0m\u001b[0;34m\u001b[0m\u001b[0m\n\u001b[1;32m      6\u001b[0m \u001b[0mtime_array\u001b[0m \u001b[0;34m=\u001b[0m \u001b[0mnp\u001b[0m\u001b[0;34m.\u001b[0m\u001b[0mdivide\u001b[0m\u001b[0;34m(\u001b[0m\u001b[0;34m[\u001b[0m\u001b[0mone_month\u001b[0m\u001b[0;34m,\u001b[0m \u001b[0msix_months\u001b[0m\u001b[0;34m,\u001b[0m \u001b[0mone_year\u001b[0m\u001b[0;34m,\u001b[0m \u001b[0mten_years\u001b[0m\u001b[0;34m]\u001b[0m\u001b[0;34m,\u001b[0m\u001b[0mdividing_factor\u001b[0m\u001b[0;34m)\u001b[0m\u001b[0;34m\u001b[0m\u001b[0m\n\u001b[0;32m----> 7\u001b[0;31m \u001b[0mn100\u001b[0m \u001b[0;34m=\u001b[0m \u001b[0mget_probs_tminutes\u001b[0m\u001b[0;34m(\u001b[0m\u001b[0;36m100\u001b[0m\u001b[0;34m,\u001b[0m \u001b[0mfm\u001b[0m \u001b[0;34m=\u001b[0m \u001b[0;34m[\u001b[0m\u001b[0;36m0.2\u001b[0m\u001b[0;34m,\u001b[0m\u001b[0;36m0.3\u001b[0m\u001b[0;34m,\u001b[0m\u001b[0;36m0.4\u001b[0m\u001b[0;34m]\u001b[0m\u001b[0;34m,\u001b[0m \u001b[0mt\u001b[0m \u001b[0;34m=\u001b[0m \u001b[0mtime_array\u001b[0m\u001b[0;34m)\u001b[0m\u001b[0;34m\u001b[0m\u001b[0m\n\u001b[0m\u001b[1;32m      8\u001b[0m \u001b[0mn250\u001b[0m \u001b[0;34m=\u001b[0m \u001b[0mget_probs_tminutes\u001b[0m\u001b[0;34m(\u001b[0m\u001b[0;36m250\u001b[0m\u001b[0;34m,\u001b[0m \u001b[0mfm\u001b[0m \u001b[0;34m=\u001b[0m \u001b[0;34m[\u001b[0m\u001b[0;36m0.2\u001b[0m\u001b[0;34m,\u001b[0m\u001b[0;36m0.3\u001b[0m\u001b[0;34m,\u001b[0m\u001b[0;36m0.4\u001b[0m\u001b[0;34m]\u001b[0m\u001b[0;34m,\u001b[0m \u001b[0mt\u001b[0m\u001b[0;34m=\u001b[0m \u001b[0mtime_array\u001b[0m\u001b[0;34m)\u001b[0m\u001b[0;34m\u001b[0m\u001b[0m\n\u001b[1;32m      9\u001b[0m \u001b[0mn500\u001b[0m \u001b[0;34m=\u001b[0m \u001b[0mget_probs_tminutes\u001b[0m\u001b[0;34m(\u001b[0m\u001b[0;36m500\u001b[0m\u001b[0;34m,\u001b[0m \u001b[0mfm\u001b[0m \u001b[0;34m=\u001b[0m \u001b[0;34m[\u001b[0m\u001b[0;36m0.2\u001b[0m\u001b[0;34m,\u001b[0m\u001b[0;36m0.3\u001b[0m\u001b[0;34m,\u001b[0m\u001b[0;36m0.4\u001b[0m\u001b[0;34m]\u001b[0m\u001b[0;34m,\u001b[0m\u001b[0mt\u001b[0m\u001b[0;34m=\u001b[0m \u001b[0mtime_array\u001b[0m\u001b[0;34m)\u001b[0m\u001b[0;34m\u001b[0m\u001b[0m\n",
      "\u001b[0;32m<ipython-input-5-8a74b5d71784>\u001b[0m in \u001b[0;36mget_probs_tminutes\u001b[0;34m(N, fm, t)\u001b[0m\n\u001b[1;32m      2\u001b[0m     \u001b[0mx\u001b[0m \u001b[0;34m=\u001b[0m \u001b[0mN\u001b[0m\u001b[0;34m/\u001b[0m\u001b[0;36m2\u001b[0m\u001b[0;34m\u001b[0m\u001b[0m\n\u001b[1;32m      3\u001b[0m     \u001b[0mlfm\u001b[0m \u001b[0;34m=\u001b[0m \u001b[0mlen\u001b[0m\u001b[0;34m(\u001b[0m\u001b[0mfm\u001b[0m\u001b[0;34m)\u001b[0m\u001b[0;34m\u001b[0m\u001b[0m\n\u001b[0;32m----> 4\u001b[0;31m     \u001b[0mpm\u001b[0m \u001b[0;34m=\u001b[0m \u001b[0mbinom\u001b[0m\u001b[0;34m.\u001b[0m\u001b[0msf\u001b[0m\u001b[0;34m(\u001b[0m\u001b[0mx\u001b[0m\u001b[0;34m,\u001b[0m\u001b[0mN\u001b[0m\u001b[0;34m,\u001b[0m\u001b[0mfm\u001b[0m\u001b[0;34m)\u001b[0m\u001b[0;34m\u001b[0m\u001b[0m\n\u001b[0m\u001b[1;32m      5\u001b[0m     \u001b[0mprb\u001b[0m\u001b[0;34m=\u001b[0m\u001b[0mnp\u001b[0m\u001b[0;34m.\u001b[0m\u001b[0mzeros\u001b[0m\u001b[0;34m(\u001b[0m\u001b[0;34m(\u001b[0m\u001b[0mlfm\u001b[0m\u001b[0;34m,\u001b[0m\u001b[0mlen\u001b[0m\u001b[0;34m(\u001b[0m\u001b[0mt\u001b[0m\u001b[0;34m)\u001b[0m\u001b[0;34m)\u001b[0m\u001b[0;34m,\u001b[0m \u001b[0mdtype\u001b[0m \u001b[0;34m=\u001b[0m \u001b[0mnp\u001b[0m\u001b[0;34m.\u001b[0m\u001b[0mfloat64\u001b[0m\u001b[0;34m)\u001b[0m\u001b[0;34m\u001b[0m\u001b[0m\n\u001b[1;32m      6\u001b[0m     \u001b[0;32mfor\u001b[0m \u001b[0mi\u001b[0m\u001b[0;34m,\u001b[0m\u001b[0mpi\u001b[0m \u001b[0;32min\u001b[0m \u001b[0menumerate\u001b[0m\u001b[0;34m(\u001b[0m\u001b[0mpm\u001b[0m\u001b[0;34m)\u001b[0m\u001b[0;34m:\u001b[0m\u001b[0;34m\u001b[0m\u001b[0m\n",
      "\u001b[0;31mNameError\u001b[0m: name 'binom' is not defined"
     ]
    }
   ],
   "source": [
    "one_month = 60*24*365/12\n",
    "six_months = 6*60*24*365/12\n",
    "one_year = 60*24*365\n",
    "ten_years = 10*60*24*365\n",
    "dividing_factor = 1\n",
    "time_array = np.divide([one_month, six_months, one_year, ten_years],dividing_factor)\n",
    "n100 = get_probs_tminutes(100, fm = [0.2,0.3,0.4], t = time_array)\n",
    "n250 = get_probs_tminutes(250, fm = [0.2,0.3,0.4], t= time_array)\n",
    "n500 = get_probs_tminutes(500, fm = [0.2,0.3,0.4],t= time_array)\n",
    "n1000 = get_probs_tminutes(1000, fm = [0.2,0.3,0.4],t= time_array) \n",
    "n2000 = get_probs_tminutes(2000, fm = [0.2,0.3,0.4,0.408],t= time_array) \n",
    "print(n100)\n",
    "print(n250)\n",
    "print(n500)\n",
    "print(n1000)\n",
    "print(n2000)"
   ]
  },
  {
   "cell_type": "markdown",
   "metadata": {},
   "source": [
    "<table>\n",
    "<tr>\n",
    "    <th>Validation pool size</th>\n",
    "    <th colspan = \"9\" style=\"text-align:center\">Percentage</th> \n",
    "</tr>\n",
    "<tr>\n",
    "    <th></th>\n",
    "    <th colspan = \"3\" style=\"text-align:center\">20%</th>\n",
    "    <th colspan = \"3\" style=\"text-align:center\">30% </th>\n",
    "    <th colspan = \"3\" style=\"text-align:center\">40% </th>\n",
    "</tr>\n",
    "<tr>\n",
    "    <th></th>\n",
    "    <th colspan = \"1\" style=\"text-align:center\">1 month</th>\n",
    "    <th colspan = \"1\" style=\"text-align:center\">6 months</th>\n",
    "    <th colspan = \"1\" style=\"text-align:center\">1 year </th>\n",
    "    <th colspan = \"1\" style=\"text-align:center\">1 month</th>\n",
    "    <th colspan = \"1\" style=\"text-align:center\">6 months</th>\n",
    "    <th colspan = \"1\" style=\"text-align:center\">1 year </th>\n",
    "    <th colspan = \"1\" style=\"text-align:center\">1 month</th>\n",
    "    <th colspan = \"1\" style=\"text-align:center\">6 months</th>\n",
    "    <th colspan = \"1\" style=\"text-align:center\">1 year </th>\n",
    "</tr>\n",
    "<tr>\n",
    "    <th style=\"text-align:left\">100</th>\n",
    "    <th colspan = \"1\" style=\"text-align:center\">{{n100[1,1]}}</th>\n",
    "    <th colspan = \"1\" style=\"text-align:center\">n100[1,2]</th>\n",
    "    <th colspan = \"1\" style=\"text-align:center\">n100[1,3] </th>\n",
    "    <th colspan = \"1\" style=\"text-align:center\">n100[2,1]</th>\n",
    "    <th colspan = \"1\" style=\"text-align:center\">n100[2,2]</th>\n",
    "    <th colspan = \"1\" style=\"text-align:center\">n100[2,3] </th>\n",
    "    <th colspan = \"1\" style=\"text-align:center\">n100[3,1]</th>\n",
    "    <th colspan = \"1\" style=\"text-align:center\">n100[3,2]</th>\n",
    "    <th colspan = \"1\" style=\"text-align:center\">n100[3,3] </th>\n",
    "</tr>\n",
    "\n",
    "\n",
    "</table>\n"
   ]
  },
  {
   "cell_type": "markdown",
   "metadata": {},
   "source": [
    "# Further thoughts\n",
    "\n",
    "We have seen here how significant the size of the subset is in protecting a network. Another important variable to consider is the frequency at which the validation pools are redrawn. Lowering this frequency will reduce the probability (over a given time period) of drawing a validation pool in which a single attacker has a majority. However slower cycling of validation pools may give non-aligned nodes a chance to organise a combined attack. \n"
   ]
  },
  {
   "cell_type": "code",
   "execution_count": null,
   "metadata": {},
   "outputs": [],
   "source": []
  },
  {
   "cell_type": "code",
   "execution_count": null,
   "metadata": {},
   "outputs": [],
   "source": []
  },
  {
   "cell_type": "code",
   "execution_count": null,
   "metadata": {},
   "outputs": [],
   "source": []
  }
 ],
 "metadata": {
  "kernelspec": {
   "display_name": "Python [conda env:scibase]",
   "language": "python",
   "name": "conda-env-scibase-py"
  },
  "language_info": {
   "codemirror_mode": {
    "name": "ipython",
    "version": 3
   },
   "file_extension": ".py",
   "mimetype": "text/x-python",
   "name": "python",
   "nbconvert_exporter": "python",
   "pygments_lexer": "ipython3",
   "version": "3.6.6"
  }
 },
 "nbformat": 4,
 "nbformat_minor": 2
}
